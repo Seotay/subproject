{
 "cells": [
  {
   "cell_type": "code",
   "execution_count": 1,
   "metadata": {},
   "outputs": [],
   "source": [
    "import pandas as pd"
   ]
  },
  {
   "cell_type": "code",
   "execution_count": 2,
   "metadata": {},
   "outputs": [
    {
     "name": "stdout",
     "output_type": "stream",
     "text": [
      "shpae of train data:  (26099, 20)\n",
      "shpae of test data:  (6525, 19)\n"
     ]
    }
   ],
   "source": [
    "train_df = pd.read_csv('./data/TRAIN_DATA.csv', sep=',', encoding='euc-kr')\n",
    "test_df = pd.read_csv('./data/TEST_DATA.csv', sep=',', encoding='euc-kr')\n",
    "print('shpae of train data: ', train_df.shape)\n",
    "print('shpae of test data: ', test_df.shape)"
   ]
  },
  {
   "cell_type": "code",
   "execution_count": 3,
   "metadata": {},
   "outputs": [],
   "source": [
    "rename_dict = {\n",
    "    \"DATA_YM\": \"작성월\",\n",
    "    \"AREA_ID\": \"상권코드\",\n",
    "    \"AREA_NM\": \"상권명\",\n",
    "    \"DIST_CD\": \"지역코드\",\n",
    "    \"DIST_NM\": \"지역명\",\n",
    "    \"TOTAL_BIDG\": \"총건물수\",\n",
    "    \"FAC_NEIGH_1\": \"1층생활시설수\",\n",
    "    \"FAC_NEIGH_2\": \"2층생활시설수\",\n",
    "    \"FAC_CULT_MTG\": \"문화집회시설수\",\n",
    "    \"FAC_RELG\": \"종교시설수\",\n",
    "    \"FAC_RETAIL\": \"판매시설수\",\n",
    "    \"FAC_MEDI\": \"의료시설수\",\n",
    "    \"FAC_YOSE\": \"아동노인복지시설수\",\n",
    "    \"FAC_TRAIN\": \"수련시설수\",\n",
    "    \"FAC_SPORT\": \"운동시설수\",\n",
    "    \"FAC_STAY\": \"숙박시설수\",\n",
    "    \"FAC_LEISURE\": \"여가및오락시설수\",\n",
    "    \"TOTAL_GAS\": \"총가스사용량\",\n",
    "    \"CMRC_GAS\": \"상업용가스사용량\",\n",
    "    \"TOTAL_ELEC\": \"총전기사용량\"\n",
    "}"
   ]
  },
  {
   "cell_type": "code",
   "execution_count": 4,
   "metadata": {},
   "outputs": [
    {
     "name": "stdout",
     "output_type": "stream",
     "text": [
      "shpae of train data:  (26099, 20)\n",
      "shpae of test data:  (6525, 19)\n"
     ]
    }
   ],
   "source": [
    "train_df = train_df.rename(columns=rename_dict, inplace=False)\n",
    "test_df = test_df.rename(columns=rename_dict, inplace=False)\n",
    "print('shpae of train data: ', train_df.shape)\n",
    "print('shpae of test data: ', test_df.shape)"
   ]
  },
  {
   "cell_type": "code",
   "execution_count": null,
   "metadata": {},
   "outputs": [],
   "source": []
  },
  {
   "cell_type": "code",
   "execution_count": null,
   "metadata": {},
   "outputs": [],
   "source": [
    "#train_df.to_csv('./data/train.tsv', sep='\\t', index=False)\n",
    "#test_df.to_csv('./data/test(original).tsv', sep='\\t', index=False)"
   ]
  }
 ],
 "metadata": {
  "kernelspec": {
   "display_name": "taehyeok",
   "language": "python",
   "name": "python3"
  },
  "language_info": {
   "codemirror_mode": {
    "name": "ipython",
    "version": 3
   },
   "file_extension": ".py",
   "mimetype": "text/x-python",
   "name": "python",
   "nbconvert_exporter": "python",
   "pygments_lexer": "ipython3",
   "version": "3.8.20"
  }
 },
 "nbformat": 4,
 "nbformat_minor": 2
}
